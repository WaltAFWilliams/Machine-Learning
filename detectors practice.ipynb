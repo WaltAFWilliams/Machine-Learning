{
 "cells": [
  {
   "cell_type": "code",
   "execution_count": 1,
   "metadata": {},
   "outputs": [],
   "source": [
    "import numpy as np, cv2 as cv, imutils"
   ]
  },
  {
   "cell_type": "code",
   "execution_count": 2,
   "metadata": {},
   "outputs": [],
   "source": [
    "hog = cv.HOGDescriptor()\n",
    "hog.setSVMDetector(cv.HOGDescriptor_getDefaultPeopleDetector())"
   ]
  },
  {
   "cell_type": "code",
   "execution_count": 4,
   "metadata": {},
   "outputs": [],
   "source": [
    "# Basic Object detection with pre-trained HOG + SVM\n",
    "path = \"images/pedestrians.jpg\"\n",
    "me = \"images/me.jpg\"\n",
    "img = cv.imread(path)\n",
    "(rects, probs) = hog.detectMultiScale(img, winStride=(5,5), padding=(8,8), scale=1.02)\n",
    "copy = img.copy()\n",
    "\n",
    "for i, (x,y,w,h) in enumerate(rects):\n",
    "    cv.rectangle(copy, (x,y), (x+w, y+h), (0,255,0), 2)\n",
    "    cv.putText(copy, str(probs[i]), (x,y-10), cv.FONT_HERSHEY_SIMPLEX, 0.5, (0,0,255), 2)\n",
    "    \n",
    "cv.imshow(\"Image\", copy)\n",
    "cv.waitKey(0)\n",
    "cv.destroyAllWindows()"
   ]
  },
  {
   "cell_type": "markdown",
   "metadata": {},
   "source": [
    "# SSD with mobilenet"
   ]
  },
  {
   "cell_type": "code",
   "execution_count": 7,
   "metadata": {},
   "outputs": [],
   "source": [
    "CLASSES = [\"background\", \"aeroplane\", \"bicycle\", \"bird\", \"boat\",\n",
    "\"bottle\", \"bus\", \"car\", \"cat\", \"chair\", \"cow\", \"diningtable\",\n",
    "\"dog\", \"horse\", \"motorbike\", \"person\", \"pottedplant\", \"sheep\",\n",
    "\"sofa\", \"train\", \"tvmonitor\"]\n",
    "\n",
    "COLORS = np.random.uniform(0, 255, size=(len(CLASSES), 3))"
   ]
  },
  {
   "cell_type": "code",
   "execution_count": 3,
   "metadata": {},
   "outputs": [
    {
     "name": "stdout",
     "output_type": "stream",
     "text": [
      "Loading model...\n"
     ]
    }
   ],
   "source": [
    "# Load in model and weights\n",
    "print(\"Loading model...\")\n",
    "net = cv.dnn.readNetFromCaffe(\"MobileNetSSD_deploy.prototxt.txt\",\"MobileNetSSD_deploy.caffemodel\")\n",
    "\n",
    "def play(size=400):\n",
    "    \"\"\"Real-time object detection with pre-trained Mobilenet-SSD.\"\"\"\n",
    "    \n",
    "    cap = cv.VideoCapture(\"/home/walt/Videos/Farm.mp4\")\n",
    "    while True:\n",
    "        _, frame = cap.read()\n",
    "        frame = imutils.resize(frame, width=size)\n",
    "        (h,w) = frame.shape[:2]\n",
    "        blob = cv.dnn.blobFromImage(cv.resize(frame, (300, 300)), 0.007843, (size,size), 127.5)\n",
    "        net.setInput(blob)\n",
    "        detections = net.forward()\n",
    "        for i in np.arange(0, detections.shape[2]):\n",
    "            conf = detections[0,0,i,2]\n",
    "            if conf > 0.3:\n",
    "                idx = int(detections[0,0,i,1])\n",
    "\n",
    "                rect = detections[0,0,i,3:7] * np.array([w,h,w,h])\n",
    "                (xA, yA, xB, yB) = rect.astype(int)\n",
    "\n",
    "                label = f\"{CLASSES[idx]}: {conf*100:.2f}%\"\n",
    "                cv.rectangle(frame, (xA, yA), (xB,yB), COLORS[idx], 2)\n",
    "                y = yA-15 if yA-15>15 else yA+15\n",
    "                cv.putText(frame, label, (xA,y), cv.FONT_HERSHEY_COMPLEX, 0.5,\n",
    "                          COLORS[idx])\n",
    "\n",
    "        cv.imshow(\"Video\", frame)\n",
    "        if cv.waitKey(1) & 0xFF == ord(\"q\"):\n",
    "            break\n",
    "\n",
    "    cap.release()\n",
    "    cv.destroyAllWindows()\n",
    "    print(f\"Approximate FPS: {fps.fps():.2f}\")"
   ]
  },
  {
   "cell_type": "code",
   "execution_count": 4,
   "metadata": {},
   "outputs": [
    {
     "name": "stdout",
     "output_type": "stream",
     "text": [
      "Approximate FPS: 11.67\n"
     ]
    }
   ],
   "source": [
    "play(size=600)"
   ]
  },
  {
   "cell_type": "code",
   "execution_count": 2,
   "metadata": {},
   "outputs": [],
   "source": [
    "labelsPath = \"yolo-object-detection/yolo-coco/coco.names\"\n",
    "LABELS = open(labelsPath).read().strip().split(\"\\n\")\n",
    "\n",
    "np.random.seed(42)\n",
    "COLORS = np.random.randint(0,255,size=(len(LABELS), 3), dtype=\"uint8\")"
   ]
  },
  {
   "cell_type": "code",
   "execution_count": 3,
   "metadata": {},
   "outputs": [],
   "source": [
    "w_path = \"yolo-object-detection/yolo-coco/yolov3.weights\"\n",
    "config = w_path[:-14] + \"yolov3.cfg\""
   ]
  },
  {
   "cell_type": "code",
   "execution_count": 4,
   "metadata": {},
   "outputs": [],
   "source": [
    "net = cv.dnn.readNetFromDarknet(config, w_path)"
   ]
  },
  {
   "cell_type": "code",
   "execution_count": 14,
   "metadata": {},
   "outputs": [],
   "source": [
    "cap = cv.VideoCapture(\"/home/walt/Videos/Farm.mp4\")    \n",
    "while True:\n",
    "    ret, img = cap.read()\n",
    "    if not ret:\n",
    "        print(\"Failed to open\")\n",
    "    # img = cv.imread(\"pedestrians.jpg\")\n",
    "    #img = imutils.resize(img, width=(500))\n",
    "    (h,w) = img.shape[:2] \n",
    "    ln = net.getLayerNames()\n",
    "    ln = [ln[i[0]-1] for i in net.getUnconnectedOutLayers()]\n",
    "\n",
    "    blob = cv.dnn.blobFromImage(img, 1/255., (416,416), swapRB=True, crop=False)\n",
    "\n",
    "    net.setInput(blob)\n",
    "    layerOutputs = net.forward(ln)\n",
    "    boxes, confidences, classIDs = [], [], []\n",
    "\n",
    "    for output in layerOutputs:\n",
    "        for detection in output:\n",
    "            scores = detection[5:]\n",
    "            classID = np.argmax(scores)\n",
    "            confidence = scores[classID]\n",
    "\n",
    "            if confidence > 0.5:\n",
    "                box = detection[:4] * np.array([w,h,w,h])\n",
    "                (xc,yc,width,height) = box.astype(\"int\")\n",
    "                x = int(xc - (width/2))\n",
    "                y = int(yc - (height/2))\n",
    "                boxes.append([x,y,int(width), int(height)])\n",
    "                confidences.append(float(confidence))\n",
    "                classIDs.append(classID)\n",
    "\n",
    "    idxs = cv.dnn.NMSBoxes(boxes, confidences, 0.5, 0.4)\n",
    "    if len(idxs) > 0:\n",
    "        # loop over the indexes we are keeping\n",
    "        for i in idxs.flatten():\n",
    "            # extract the bounding box coordinates\n",
    "            (x, y) = (boxes[i][0], boxes[i][1])\n",
    "            (w, h) = (boxes[i][2], boxes[i][3])\n",
    "            # draw a bounding box rectangle and label on the image\n",
    "            color = [int(c) for c in COLORS[classIDs[i]]]\n",
    "            cv.rectangle(img, (x, y), (x + w, y + h), color, 2)\n",
    "            text = \"{}: {:.4f}\".format(LABELS[classIDs[i]], confidences[i])\n",
    "            cv.putText(img, text, (x, y - 5), cv.FONT_HERSHEY_SIMPLEX,\n",
    "                0.5, color, 2)\n",
    "    # show the output image\n",
    "    cv.imshow(\"Vid\", img)\n",
    "    if cv.waitKey(1) & 0xFF == ord(\"q\"):\n",
    "        break\n",
    "\n",
    "cap.release()\n",
    "cv.destroyAllWindows()"
   ]
  },
  {
   "cell_type": "code",
   "execution_count": null,
   "metadata": {},
   "outputs": [],
   "source": []
  }
 ],
 "metadata": {
  "kernelspec": {
   "display_name": "Python 3",
   "language": "python",
   "name": "python3"
  },
  "language_info": {
   "codemirror_mode": {
    "name": "ipython",
    "version": 3
   },
   "file_extension": ".py",
   "mimetype": "text/x-python",
   "name": "python",
   "nbconvert_exporter": "python",
   "pygments_lexer": "ipython3",
   "version": "3.6.9"
  }
 },
 "nbformat": 4,
 "nbformat_minor": 4
}
