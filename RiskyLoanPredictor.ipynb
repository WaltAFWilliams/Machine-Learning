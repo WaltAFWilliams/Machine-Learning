{
  "nbformat": 4,
  "nbformat_minor": 0,
  "metadata": {
    "colab": {
      "name": "RiskyLoanPredictor",
      "provenance": [],
      "collapsed_sections": [],
      "mount_file_id": "1mJEyel0i5OKtWYINJl9ocDmrUoNwJ4fQ",
      "authorship_tag": "ABX9TyPqcxTjCxC1RO44VvrmiOEI"
    },
    "kernelspec": {
      "name": "python3",
      "display_name": "Python 3"
    },
    "accelerator": "GPU"
  },
  "cells": [
    {
      "cell_type": "code",
      "metadata": {
        "id": "hATOw6i-iq3g",
        "colab_type": "code",
        "colab": {}
      },
      "source": [
        "%tensorflow_version 2.x\n",
        "import tensorflow as tf\n",
        "import numpy as np\n",
        "import pandas as pd\n",
        "import matplotlib.pyplot as plt\n",
        "import seaborn as sns"
      ],
      "execution_count": 0,
      "outputs": []
    },
    {
      "cell_type": "code",
      "metadata": {
        "id": "-G37itrojpQp",
        "colab_type": "code",
        "colab": {}
      },
      "source": [
        "df = pd.read_csv(\"/content/drive/My Drive/data/DATA/lending_club_loan_two.csv\")"
      ],
      "execution_count": 0,
      "outputs": []
    },
    {
      "cell_type": "code",
      "metadata": {
        "id": "alwA90-vkDkJ",
        "colab_type": "code",
        "outputId": "cfa6a96d-6cb3-47ca-f272-b900c03a9b3b",
        "colab": {
          "base_uri": "https://localhost:8080/",
          "height": 395
        }
      },
      "source": [
        "df.head()"
      ],
      "execution_count": 257,
      "outputs": [
        {
          "output_type": "execute_result",
          "data": {
            "text/html": [
              "<div>\n",
              "<style scoped>\n",
              "    .dataframe tbody tr th:only-of-type {\n",
              "        vertical-align: middle;\n",
              "    }\n",
              "\n",
              "    .dataframe tbody tr th {\n",
              "        vertical-align: top;\n",
              "    }\n",
              "\n",
              "    .dataframe thead th {\n",
              "        text-align: right;\n",
              "    }\n",
              "</style>\n",
              "<table border=\"1\" class=\"dataframe\">\n",
              "  <thead>\n",
              "    <tr style=\"text-align: right;\">\n",
              "      <th></th>\n",
              "      <th>loan_amnt</th>\n",
              "      <th>term</th>\n",
              "      <th>int_rate</th>\n",
              "      <th>installment</th>\n",
              "      <th>grade</th>\n",
              "      <th>sub_grade</th>\n",
              "      <th>emp_title</th>\n",
              "      <th>emp_length</th>\n",
              "      <th>home_ownership</th>\n",
              "      <th>annual_inc</th>\n",
              "      <th>verification_status</th>\n",
              "      <th>issue_d</th>\n",
              "      <th>loan_status</th>\n",
              "      <th>purpose</th>\n",
              "      <th>title</th>\n",
              "      <th>dti</th>\n",
              "      <th>earliest_cr_line</th>\n",
              "      <th>open_acc</th>\n",
              "      <th>pub_rec</th>\n",
              "      <th>revol_bal</th>\n",
              "      <th>revol_util</th>\n",
              "      <th>total_acc</th>\n",
              "      <th>initial_list_status</th>\n",
              "      <th>application_type</th>\n",
              "      <th>mort_acc</th>\n",
              "      <th>pub_rec_bankruptcies</th>\n",
              "      <th>address</th>\n",
              "    </tr>\n",
              "  </thead>\n",
              "  <tbody>\n",
              "    <tr>\n",
              "      <th>0</th>\n",
              "      <td>10000.0</td>\n",
              "      <td>36 months</td>\n",
              "      <td>11.44</td>\n",
              "      <td>329.48</td>\n",
              "      <td>B</td>\n",
              "      <td>B4</td>\n",
              "      <td>Marketing</td>\n",
              "      <td>10+ years</td>\n",
              "      <td>RENT</td>\n",
              "      <td>117000.0</td>\n",
              "      <td>Not Verified</td>\n",
              "      <td>Jan-2015</td>\n",
              "      <td>Fully Paid</td>\n",
              "      <td>vacation</td>\n",
              "      <td>Vacation</td>\n",
              "      <td>26.24</td>\n",
              "      <td>Jun-1990</td>\n",
              "      <td>16.0</td>\n",
              "      <td>0.0</td>\n",
              "      <td>36369.0</td>\n",
              "      <td>41.8</td>\n",
              "      <td>25.0</td>\n",
              "      <td>w</td>\n",
              "      <td>INDIVIDUAL</td>\n",
              "      <td>0.0</td>\n",
              "      <td>0.0</td>\n",
              "      <td>0174 Michelle Gateway\\r\\nMendozaberg, OK 22690</td>\n",
              "    </tr>\n",
              "    <tr>\n",
              "      <th>1</th>\n",
              "      <td>8000.0</td>\n",
              "      <td>36 months</td>\n",
              "      <td>11.99</td>\n",
              "      <td>265.68</td>\n",
              "      <td>B</td>\n",
              "      <td>B5</td>\n",
              "      <td>Credit analyst</td>\n",
              "      <td>4 years</td>\n",
              "      <td>MORTGAGE</td>\n",
              "      <td>65000.0</td>\n",
              "      <td>Not Verified</td>\n",
              "      <td>Jan-2015</td>\n",
              "      <td>Fully Paid</td>\n",
              "      <td>debt_consolidation</td>\n",
              "      <td>Debt consolidation</td>\n",
              "      <td>22.05</td>\n",
              "      <td>Jul-2004</td>\n",
              "      <td>17.0</td>\n",
              "      <td>0.0</td>\n",
              "      <td>20131.0</td>\n",
              "      <td>53.3</td>\n",
              "      <td>27.0</td>\n",
              "      <td>f</td>\n",
              "      <td>INDIVIDUAL</td>\n",
              "      <td>3.0</td>\n",
              "      <td>0.0</td>\n",
              "      <td>1076 Carney Fort Apt. 347\\r\\nLoganmouth, SD 05113</td>\n",
              "    </tr>\n",
              "    <tr>\n",
              "      <th>2</th>\n",
              "      <td>15600.0</td>\n",
              "      <td>36 months</td>\n",
              "      <td>10.49</td>\n",
              "      <td>506.97</td>\n",
              "      <td>B</td>\n",
              "      <td>B3</td>\n",
              "      <td>Statistician</td>\n",
              "      <td>&lt; 1 year</td>\n",
              "      <td>RENT</td>\n",
              "      <td>43057.0</td>\n",
              "      <td>Source Verified</td>\n",
              "      <td>Jan-2015</td>\n",
              "      <td>Fully Paid</td>\n",
              "      <td>credit_card</td>\n",
              "      <td>Credit card refinancing</td>\n",
              "      <td>12.79</td>\n",
              "      <td>Aug-2007</td>\n",
              "      <td>13.0</td>\n",
              "      <td>0.0</td>\n",
              "      <td>11987.0</td>\n",
              "      <td>92.2</td>\n",
              "      <td>26.0</td>\n",
              "      <td>f</td>\n",
              "      <td>INDIVIDUAL</td>\n",
              "      <td>0.0</td>\n",
              "      <td>0.0</td>\n",
              "      <td>87025 Mark Dale Apt. 269\\r\\nNew Sabrina, WV 05113</td>\n",
              "    </tr>\n",
              "    <tr>\n",
              "      <th>3</th>\n",
              "      <td>7200.0</td>\n",
              "      <td>36 months</td>\n",
              "      <td>6.49</td>\n",
              "      <td>220.65</td>\n",
              "      <td>A</td>\n",
              "      <td>A2</td>\n",
              "      <td>Client Advocate</td>\n",
              "      <td>6 years</td>\n",
              "      <td>RENT</td>\n",
              "      <td>54000.0</td>\n",
              "      <td>Not Verified</td>\n",
              "      <td>Nov-2014</td>\n",
              "      <td>Fully Paid</td>\n",
              "      <td>credit_card</td>\n",
              "      <td>Credit card refinancing</td>\n",
              "      <td>2.60</td>\n",
              "      <td>Sep-2006</td>\n",
              "      <td>6.0</td>\n",
              "      <td>0.0</td>\n",
              "      <td>5472.0</td>\n",
              "      <td>21.5</td>\n",
              "      <td>13.0</td>\n",
              "      <td>f</td>\n",
              "      <td>INDIVIDUAL</td>\n",
              "      <td>0.0</td>\n",
              "      <td>0.0</td>\n",
              "      <td>823 Reid Ford\\r\\nDelacruzside, MA 00813</td>\n",
              "    </tr>\n",
              "    <tr>\n",
              "      <th>4</th>\n",
              "      <td>24375.0</td>\n",
              "      <td>60 months</td>\n",
              "      <td>17.27</td>\n",
              "      <td>609.33</td>\n",
              "      <td>C</td>\n",
              "      <td>C5</td>\n",
              "      <td>Destiny Management Inc.</td>\n",
              "      <td>9 years</td>\n",
              "      <td>MORTGAGE</td>\n",
              "      <td>55000.0</td>\n",
              "      <td>Verified</td>\n",
              "      <td>Apr-2013</td>\n",
              "      <td>Charged Off</td>\n",
              "      <td>credit_card</td>\n",
              "      <td>Credit Card Refinance</td>\n",
              "      <td>33.95</td>\n",
              "      <td>Mar-1999</td>\n",
              "      <td>13.0</td>\n",
              "      <td>0.0</td>\n",
              "      <td>24584.0</td>\n",
              "      <td>69.8</td>\n",
              "      <td>43.0</td>\n",
              "      <td>f</td>\n",
              "      <td>INDIVIDUAL</td>\n",
              "      <td>1.0</td>\n",
              "      <td>0.0</td>\n",
              "      <td>679 Luna Roads\\r\\nGreggshire, VA 11650</td>\n",
              "    </tr>\n",
              "  </tbody>\n",
              "</table>\n",
              "</div>"
            ],
            "text/plain": [
              "   loan_amnt  ...                                            address\n",
              "0    10000.0  ...     0174 Michelle Gateway\\r\\nMendozaberg, OK 22690\n",
              "1     8000.0  ...  1076 Carney Fort Apt. 347\\r\\nLoganmouth, SD 05113\n",
              "2    15600.0  ...  87025 Mark Dale Apt. 269\\r\\nNew Sabrina, WV 05113\n",
              "3     7200.0  ...            823 Reid Ford\\r\\nDelacruzside, MA 00813\n",
              "4    24375.0  ...             679 Luna Roads\\r\\nGreggshire, VA 11650\n",
              "\n",
              "[5 rows x 27 columns]"
            ]
          },
          "metadata": {
            "tags": []
          },
          "execution_count": 257
        }
      ]
    },
    {
      "cell_type": "code",
      "metadata": {
        "id": "xM4TGe8ikWhj",
        "colab_type": "code",
        "outputId": "ecfe078e-1761-4f93-995c-b2ae1ed238b6",
        "colab": {
          "base_uri": "https://localhost:8080/",
          "height": 572
        }
      },
      "source": [
        "df.info()"
      ],
      "execution_count": 258,
      "outputs": [
        {
          "output_type": "stream",
          "text": [
            "<class 'pandas.core.frame.DataFrame'>\n",
            "RangeIndex: 396030 entries, 0 to 396029\n",
            "Data columns (total 27 columns):\n",
            "loan_amnt               396030 non-null float64\n",
            "term                    396030 non-null object\n",
            "int_rate                396030 non-null float64\n",
            "installment             396030 non-null float64\n",
            "grade                   396030 non-null object\n",
            "sub_grade               396030 non-null object\n",
            "emp_title               373103 non-null object\n",
            "emp_length              377729 non-null object\n",
            "home_ownership          396030 non-null object\n",
            "annual_inc              396030 non-null float64\n",
            "verification_status     396030 non-null object\n",
            "issue_d                 396030 non-null object\n",
            "loan_status             396030 non-null object\n",
            "purpose                 396030 non-null object\n",
            "title                   394275 non-null object\n",
            "dti                     396030 non-null float64\n",
            "earliest_cr_line        396030 non-null object\n",
            "open_acc                396030 non-null float64\n",
            "pub_rec                 396030 non-null float64\n",
            "revol_bal               396030 non-null float64\n",
            "revol_util              395754 non-null float64\n",
            "total_acc               396030 non-null float64\n",
            "initial_list_status     396030 non-null object\n",
            "application_type        396030 non-null object\n",
            "mort_acc                358235 non-null float64\n",
            "pub_rec_bankruptcies    395495 non-null float64\n",
            "address                 396030 non-null object\n",
            "dtypes: float64(12), object(15)\n",
            "memory usage: 81.6+ MB\n"
          ],
          "name": "stdout"
        }
      ]
    },
    {
      "cell_type": "code",
      "metadata": {
        "id": "tm4QrsNGAejK",
        "colab_type": "code",
        "outputId": "da09c919-1e86-4128-b053-3bddddf9363a",
        "colab": {
          "base_uri": "https://localhost:8080/",
          "height": 503
        }
      },
      "source": [
        "df.isnull().sum()"
      ],
      "execution_count": 259,
      "outputs": [
        {
          "output_type": "execute_result",
          "data": {
            "text/plain": [
              "loan_amnt                   0\n",
              "term                        0\n",
              "int_rate                    0\n",
              "installment                 0\n",
              "grade                       0\n",
              "sub_grade                   0\n",
              "emp_title               22927\n",
              "emp_length              18301\n",
              "home_ownership              0\n",
              "annual_inc                  0\n",
              "verification_status         0\n",
              "issue_d                     0\n",
              "loan_status                 0\n",
              "purpose                     0\n",
              "title                    1755\n",
              "dti                         0\n",
              "earliest_cr_line            0\n",
              "open_acc                    0\n",
              "pub_rec                     0\n",
              "revol_bal                   0\n",
              "revol_util                276\n",
              "total_acc                   0\n",
              "initial_list_status         0\n",
              "application_type            0\n",
              "mort_acc                37795\n",
              "pub_rec_bankruptcies      535\n",
              "address                     0\n",
              "dtype: int64"
            ]
          },
          "metadata": {
            "tags": []
          },
          "execution_count": 259
        }
      ]
    },
    {
      "cell_type": "code",
      "metadata": {
        "id": "Ae-PKmDNMUAG",
        "colab_type": "code",
        "colab": {}
      },
      "source": [
        "# One hot encoding categorical labels in our dataset\n",
        "df = pd.concat([pd.get_dummies(df[[\"verification_status\",\"sub_grade\",\"application_type\",\"purpose\"]], drop_first=True), df], axis=1) \n",
        "\n",
        "# \"NONE\" and \"ANY\" labels have small sample size so relabeling them to \"OTHER\"\n",
        "df[\"home_ownership\"].replace([\"NONE\",\"ANY\"],\"OTHER\")\n",
        "df = pd.concat([pd.get_dummies(df[\"home_ownership\"], drop_first=True), df], axis=1)\n",
        "\n",
        "# Extracting zip code from address label\n",
        "df[\"address\"] = df[\"address\"].apply(lambda address:address[-5:])\n",
        "df = pd.concat([df, pd.get_dummies(df[\"address\"], drop_first=True)], axis=1)\n",
        "\n",
        "# Converting \"earliest credit line\" into a year format \n",
        "df[\"earliest_cr_line\"] = pd.to_datetime(df[\"earliest_cr_line\"])\n",
        "df[\"earliest_cr_line\"] = df[\"earliest_cr_line\"].apply(lambda date:date.year) # Just need the year value\n",
        "df[\"earliest_cr_line\"].astype(int) # Converting value to integers rather than strings"
      ],
      "execution_count": 0,
      "outputs": []
    },
    {
      "cell_type": "code",
      "metadata": {
        "id": "4f5MdAuBlGqv",
        "colab_type": "code",
        "colab": {}
      },
      "source": [
        "# Columns to be dropped\n",
        "df.drop([\"emp_length\",\"grade\",\"title\", \"verification_status\",\n",
        "         \"sub_grade\", \"application_type\", \"purpose\",\"home_ownership\",\n",
        "         \"address\",\"emp_title\",\"issue_d\"], axis=1, inplace=True)"
      ],
      "execution_count": 0,
      "outputs": []
    },
    {
      "cell_type": "code",
      "metadata": {
        "id": "k8bND4GRKH-p",
        "colab_type": "code",
        "colab": {}
      },
      "source": [
        "total_acc_mean = df.groupby(\"total_acc\").mean()[\"mort_acc\"] # Average mortage accounts per total account number\n",
        "\n",
        "def fill_mort(total_acc,mort_acc): # Function to fill out all missing mortgage account values with the average from above dataframe\n",
        "  if np.isnan(mort_acc):\n",
        "    return total_acc_mean[total_acc]\n",
        "  else:\n",
        "    return mort_acc\n",
        "\n",
        "df[\"mort_acc\"] = df.apply(lambda x:fill_mort(x[\"total_acc\"], x[\"mort_acc\"]), axis=1)"
      ],
      "execution_count": 0,
      "outputs": []
    },
    {
      "cell_type": "code",
      "metadata": {
        "id": "jaGx7hMpRe4P",
        "colab_type": "code",
        "colab": {}
      },
      "source": [
        "df[\"initial_list_status\"] = df[\"initial_list_status\"].map({\"w\":0, \"f\":1})\n",
        "df[\"loan_status\"] = df[\"loan_status\"].map({\"Fully Paid\": 1, \"Charged Off\": 0})\n",
        "df[\"term\"] = df[\"term\"].map({\" 36 months\":36, \" 60 months\":60})\n",
        "df.dropna(inplace=True) # Dropping unaccounted NAN values"
      ],
      "execution_count": 0,
      "outputs": []
    },
    {
      "cell_type": "code",
      "metadata": {
        "id": "BFJ7dySAmbn8",
        "colab_type": "code",
        "colab": {
          "base_uri": "https://localhost:8080/",
          "height": 87
        },
        "outputId": "dfb2bf59-ae97-4056-9b93-478976b86dea"
      },
      "source": [
        "# Data Preprocessing\n",
        "from sklearn.preprocessing import MinMaxScaler\n",
        "from sklearn.model_selection import train_test_split\n",
        "\n",
        "# Defining target and features\n",
        "X = df.drop(\"loan_status\", axis=1).values\n",
        "y = df[\"loan_status\"].values\n",
        "X_train, X_test, y_train, y_test = train_test_split(X,y,test_size=0.2,random_state=42)\n",
        "\n",
        "# Scaling our data\n",
        "scaler = MinMaxScaler()\n",
        "X_train = scaler.fit_transform(X_train)\n",
        "X_test = scaler.transform(X_test)\n",
        "\n",
        "# Making sure dimensions are correct\n",
        "print(\"X_train shape: {}\".format(X_train.shape), \"y_train shape: {}\".format(y_train.shape), \n",
        "      \"X_test shape: {}\".format(X_test.shape), \"y_test shape: {}\".format(y_test.shape), sep=\"\\n\")"
      ],
      "execution_count": 264,
      "outputs": [
        {
          "output_type": "stream",
          "text": [
            "X_train shape: (316175, 80)\n",
            "y_train shape: (316175,)\n",
            "X_test shape: (79044, 80)\n",
            "y_test shape: (79044,)\n"
          ],
          "name": "stdout"
        }
      ]
    },
    {
      "cell_type": "code",
      "metadata": {
        "id": "qR4XcuxtbwuV",
        "colab_type": "code",
        "colab": {}
      },
      "source": [
        "# Creating our model\n",
        "from tensorflow.keras.models import Sequential\n",
        "from tensorflow.keras.layers import Dense, Activation, Dropout\n",
        "from tensorflow.keras.callbacks import EarlyStopping\n",
        "\n",
        "model = Sequential()\n",
        "\n",
        "model.add(Dense(78, activation=\"relu\")) \n",
        "model.add(Dropout(0.2)) # Droupout layer added to help with overfitting\n",
        "\n",
        "model.add(Dense(39, activation=\"relu\")) \n",
        "model.add(Dropout(0.2))\n",
        "\n",
        "model.add(Dense(19, activation=\"relu\")) \n",
        "model.add(Dropout(0.2))\n",
        "\n",
        "model.add(Dense(1, activation=\"sigmoid\")) # Output layer. This is a binary classification problem so sigmoid (logistic) activation used.\n",
        "\n",
        "model.compile(optimizer=\"adam\", loss=\"binary_crossentropy\")\n",
        "\n",
        "early_stop = EarlyStopping(patience=5, mode=\"min\",restore_best_weights=True) # Added to avoid unnecessary training and potential overfitting"
      ],
      "execution_count": 0,
      "outputs": []
    },
    {
      "cell_type": "code",
      "metadata": {
        "id": "0MCGv_fcelYU",
        "colab_type": "code",
        "colab": {}
      },
      "source": [
        "# Training the model\n",
        "H = model.fit(X_train, y_train, batch_size=500, epochs=500, verbose=0, validation_data=(X_test,y_test), callbacks=[early_stop])"
      ],
      "execution_count": 0,
      "outputs": []
    },
    {
      "cell_type": "code",
      "metadata": {
        "id": "qh24ErTrh-cC",
        "colab_type": "code",
        "colab": {
          "base_uri": "https://localhost:8080/",
          "height": 319
        },
        "outputId": "a6455ac3-7d28-4c06-a9b1-583700f10523"
      },
      "source": [
        "# Visualizing model performance\n",
        "sns.set(style=\"darkgrid\")\n",
        "\n",
        "# Loss with respect to epochs\n",
        "epochs = range(1, len(H.history[\"loss\"])+1)\n",
        "plt.plot(epochs, H.history[\"loss\"], label=\"Training Loss\")\n",
        "plt.plot(epochs, H.history[\"val_loss\"], label=\"Validation Loss\")\n",
        "plt.title(\"Loss as training progresses\")\n",
        "plt.xlabel(\"Epochs\")\n",
        "plt.ylabel(\"Loss\")\n",
        "plt.legend()"
      ],
      "execution_count": 274,
      "outputs": [
        {
          "output_type": "execute_result",
          "data": {
            "text/plain": [
              "<matplotlib.legend.Legend at 0x7fcc69962cc0>"
            ]
          },
          "metadata": {
            "tags": []
          },
          "execution_count": 274
        },
        {
          "output_type": "display_data",
          "data": {
            "image/png": "[encoded data removed]",
            "text/plain": [
              "<Figure size 432x288 with 1 Axes>"
            ]
          },
          "metadata": {
            "tags": []
          }
        }
      ]
    },
    {
      "cell_type": "code",
      "metadata": {
        "id": "urtL-Aqok1CN",
        "colab_type": "code",
        "colab": {
          "base_uri": "https://localhost:8080/",
          "height": 173
        },
        "outputId": "97268662-0c27-4b54-a447-fce3fe016e23"
      },
      "source": [
        "# Performance Metrics on training data\n",
        "from sklearn.metrics import classification_report, confusion_matrix\n",
        "\n",
        "predictions = model.predict_classes(X_train)\n",
        "print(classification_report(y_train, predictions))"
      ],
      "execution_count": 275,
      "outputs": [
        {
          "output_type": "stream",
          "text": [
            "              precision    recall  f1-score   support\n",
            "\n",
            "           0       0.99      0.44      0.61     62102\n",
            "           1       0.88      1.00      0.94    254073\n",
            "\n",
            "    accuracy                           0.89    316175\n",
            "   macro avg       0.93      0.72      0.77    316175\n",
            "weighted avg       0.90      0.89      0.87    316175\n",
            "\n"
          ],
          "name": "stdout"
        }
      ]
    },
    {
      "cell_type": "code",
      "metadata": {
        "id": "qKhXkWvoGIoC",
        "colab_type": "code",
        "colab": {
          "base_uri": "https://localhost:8080/",
          "height": 287
        },
        "outputId": "4fa68678-4d53-4742-cc0b-76d1d2d71f1b"
      },
      "source": [
        "# Visualizing confusion matrix\n",
        "sns.heatmap(confusion_matrix(y_train, predictions), annot=True, cmap=\"Greens\")"
      ],
      "execution_count": 269,
      "outputs": [
        {
          "output_type": "execute_result",
          "data": {
            "text/plain": [
              "<matplotlib.axes._subplots.AxesSubplot at 0x7fcc5f067a90>"
            ]
          },
          "metadata": {
            "tags": []
          },
          "execution_count": 269
        },
        {
          "output_type": "display_data",
          "data": {
            "image/png": "[encoded data removed]",
            "text/plain": [
              "<Figure size 432x288 with 2 Axes>"
            ]
          },
          "metadata": {
            "tags": []
          }
        }
      ]
    },
    {
      "cell_type": "code",
      "metadata": {
        "colab_type": "code",
        "id": "pk8KM9c-IVTN",
        "colab": {
          "base_uri": "https://localhost:8080/",
          "height": 173
        },
        "outputId": "705bbdfc-0d3d-48ca-9f17-1d66f7e6d801"
      },
      "source": [
        "# Performance Metrics on testing data\n",
        "test_predictions = model.predict_classes(X_test)\n",
        "print(classification_report(y_test, test_predictions))"
      ],
      "execution_count": 270,
      "outputs": [
        {
          "output_type": "stream",
          "text": [
            "              precision    recall  f1-score   support\n",
            "\n",
            "           0       0.96      0.45      0.61     15421\n",
            "           1       0.88      1.00      0.94     63623\n",
            "\n",
            "    accuracy                           0.89     79044\n",
            "   macro avg       0.92      0.72      0.77     79044\n",
            "weighted avg       0.90      0.89      0.87     79044\n",
            "\n"
          ],
          "name": "stdout"
        }
      ]
    },
    {
      "cell_type": "code",
      "metadata": {
        "id": "-KOINvEhIha1",
        "colab_type": "code",
        "colab": {
          "base_uri": "https://localhost:8080/",
          "height": 285
        },
        "outputId": "0ae400e7-d1ba-4332-b82b-9fefac07772f"
      },
      "source": [
        "sns.heatmap(confusion_matrix(y_test, test_predictions), annot=True, cmap=\"Greens\")"
      ],
      "execution_count": 271,
      "outputs": [
        {
          "output_type": "execute_result",
          "data": {
            "text/plain": [
              "<matplotlib.axes._subplots.AxesSubplot at 0x7fcc5fcfb6a0>"
            ]
          },
          "metadata": {
            "tags": []
          },
          "execution_count": 271
        },
        {
          "output_type": "display_data",
          "data": {
            "image/png": "[encoded data removed]",
            "text/plain": [
              "<Figure size 432x288 with 2 Axes>"
            ]
          },
          "metadata": {
            "tags": []
          }
        }
      ]
    }
  ]
}